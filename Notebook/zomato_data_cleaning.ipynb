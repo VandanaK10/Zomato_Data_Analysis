{
 "cells": [
  {
   "cell_type": "markdown",
   "id": "04fd768c-a368-4afe-b63f-32ae33a5ace4",
   "metadata": {},
   "source": [
    "# Import necessary libraries"
   ]
  },
  {
   "cell_type": "code",
   "execution_count": null,
   "id": "a24f9d10-14a2-4e30-b5c1-3593ea01c4e5",
   "metadata": {},
   "outputs": [],
   "source": [
    "import pandas as pd"
   ]
  },
  {
   "cell_type": "markdown",
   "id": "f0705bbe-8be7-4ed0-a06b-59907236ff65",
   "metadata": {},
   "source": [
    "# Load the Zomato dataset"
   ]
  },
  {
   "cell_type": "code",
   "execution_count": 2,
   "id": "9e5b755c-61c4-404a-9730-b91676ccca28",
   "metadata": {},
   "outputs": [],
   "source": [
    "df = pd.read_csv(\"zomato.csv\")"
   ]
  },
  {
   "cell_type": "markdown",
   "id": "0340700c-c644-48fb-bdaf-0a530087d82c",
   "metadata": {},
   "source": [
    "# Drop columns that are not useful for analysis"
   ]
  },
  {
   "cell_type": "code",
   "execution_count": 4,
   "id": "04b5787c-a7d5-4933-9db2-dc6f2e9ed862",
   "metadata": {},
   "outputs": [],
   "source": [
    "df2=df.drop(columns=['url', 'phone', 'rest_type', 'dish_liked', 'reviews_list', 'menu_item', 'listed_in(city)'])"
   ]
  },
  {
   "cell_type": "markdown",
   "id": "855cad9f-9d1d-4fb6-a1b3-c36f1db44b6d",
   "metadata": {},
   "source": [
    "# Rename columns for better readability"
   ]
  },
  {
   "cell_type": "code",
   "execution_count": 9,
   "id": "4c8e1f0d-4888-4d55-9423-d09d4d559887",
   "metadata": {},
   "outputs": [],
   "source": [
    "df3=df2.rename(columns={'approx_cost(for two people)':'two_people_cost','listed_in(type)':'type_of_restaurant'})\n",
    "df4=df3.rename(columns={'rate':'rating'})"
   ]
  },
  {
   "cell_type": "markdown",
   "id": "06547862-726f-45d6-bf49-48b54d098821",
   "metadata": {},
   "source": [
    "# Drop rows where data is missing"
   ]
  },
  {
   "cell_type": "code",
   "execution_count": 17,
   "id": "cb0d33f3-7386-4ca8-ab2e-dcb7eda3f6a0",
   "metadata": {},
   "outputs": [],
   "source": [
    "df4=df4.dropna(subset=['location'])\n",
    "df4=df4.dropna(subset=['cuisines','two_people_cost'])"
   ]
  },
  {
   "cell_type": "markdown",
   "id": "79d47b21-2f50-4d72-8767-a26e5c04e760",
   "metadata": {},
   "source": [
    "# Clean and Convert Cost Column"
   ]
  },
  {
   "cell_type": "code",
   "execution_count": 19,
   "id": "e948803c-9d63-4e88-b5a4-7c352c9e0575",
   "metadata": {},
   "outputs": [],
   "source": [
    "df4['two_people_cost']=df4['two_people_cost'].str.replace(',', '').astype(int)\n",
    "df4['two_people_cost']=df4['two_people_cost']/2\n",
    "df4=df4.rename(columns={'two_people_cost':'cost_per_person'})"
   ]
  },
  {
   "cell_type": "markdown",
   "id": "258f3551-72eb-4513-9a61-82792fa61651",
   "metadata": {},
   "source": [
    "# Clean the Rating Column"
   ]
  },
  {
   "cell_type": "code",
   "execution_count": 22,
   "id": "140e2a59-d7b1-4b9f-80d5-b3bcf6352623",
   "metadata": {},
   "outputs": [],
   "source": [
    "import numpy as np\n",
    "def handlerate(value) :\n",
    "    if(value== 'NEW' or value=='-'):\n",
    "        return np.nan\n",
    "    else:\n",
    "        value = str(value).split('/')\n",
    "        value = value [0]\n",
    "        return float(value)\n",
    "        \n",
    "df4['rating'] = df4['rating'].apply(handlerate)\n",
    "df4['rating']=df4['rating'].fillna(df4['rating'].mean)"
   ]
  },
  {
   "cell_type": "markdown",
   "id": "5e90a235-333a-428d-afe6-bf1c7ba056f4",
   "metadata": {},
   "source": [
    "# Correct Data Types"
   ]
  },
  {
   "cell_type": "code",
   "execution_count": 39,
   "id": "aede5553-3a41-42f7-b697-a0dea6ccab74",
   "metadata": {},
   "outputs": [],
   "source": [
    "df4['online_order']=df4['online_order'].astype(\"string\")\n",
    "df4['book_table']=df4['book_table'].astype(\"string\")\n",
    "df4['location']=df4['location'].astype(\"string\")\n",
    "df4['cuisines']=df4['cuisines'].astype(\"string\")"
   ]
  },
  {
   "cell_type": "markdown",
   "id": "d6150e2f-f99c-4319-9048-36ffb96bc8b7",
   "metadata": {},
   "source": [
    "# Remove Duplicates"
   ]
  },
  {
   "cell_type": "code",
   "execution_count": 46,
   "id": "0aa2b4c7-5d2c-46c5-9db1-224983be2c51",
   "metadata": {},
   "outputs": [],
   "source": [
    "df4.drop_duplicates(inplace=True)"
   ]
  },
  {
   "cell_type": "markdown",
   "id": "2a50b630-5780-4946-98f2-fbae7125ad4f",
   "metadata": {},
   "source": [
    "# Apply Title Casing to key categorical text columns"
   ]
  },
  {
   "cell_type": "code",
   "execution_count": 50,
   "id": "c34f1292-f454-46e2-bfa2-6481f800d2ce",
   "metadata": {},
   "outputs": [],
   "source": [
    "df4['name']=df4['name'].str.title()\n",
    "df4['location']=df4['location'].str.title()\n",
    "df4['cuisines']=df4['cuisines'].str.title()\n",
    "df4['type_of_restaurant']=df4['type_of_restaurant'].str.title()"
   ]
  },
  {
   "cell_type": "code",
   "execution_count": 59,
   "id": "b2c73817-5210-44d0-8148-2b474f533e7e",
   "metadata": {},
   "outputs": [],
   "source": [
    "df4.drop(columns=['type_of_restuarant'],inplace=True)"
   ]
  },
  {
   "cell_type": "markdown",
   "id": "b402b8c1-65ba-4554-9bd6-d7d58f9ff75a",
   "metadata": {},
   "source": [
    "# Display information about final dataframe"
   ]
  },
  {
   "cell_type": "code",
   "execution_count": 61,
   "id": "c3642ab4-a6e0-47ea-9d32-8e41978a590e",
   "metadata": {},
   "outputs": [
    {
     "name": "stdout",
     "output_type": "stream",
     "text": [
      "<class 'pandas.core.frame.DataFrame'>\n",
      "Index: 31730 entries, 0 to 51716\n",
      "Data columns (total 10 columns):\n",
      " #   Column              Non-Null Count  Dtype  \n",
      "---  ------              --------------  -----  \n",
      " 0   address             31730 non-null  object \n",
      " 1   name                31730 non-null  object \n",
      " 2   online_order        31730 non-null  string \n",
      " 3   book_table          31730 non-null  string \n",
      " 4   rating              31730 non-null  object \n",
      " 5   votes               31730 non-null  int64  \n",
      " 6   location            31730 non-null  string \n",
      " 7   cuisines            31730 non-null  string \n",
      " 8   cost_per_person     31730 non-null  float64\n",
      " 9   type_of_restaurant  31730 non-null  object \n",
      "dtypes: float64(1), int64(1), object(4), string(4)\n",
      "memory usage: 2.7+ MB\n"
     ]
    }
   ],
   "source": [
    "df4.info()"
   ]
  },
  {
   "cell_type": "markdown",
   "id": "4d677dfd-d8c0-434b-b9bf-0991bd4c21a8",
   "metadata": {},
   "source": [
    "# Saved the cleaned DataFrame"
   ]
  },
  {
   "cell_type": "code",
   "execution_count": 62,
   "id": "a33b4e3d-ad8d-464c-92ae-69138651d0a8",
   "metadata": {},
   "outputs": [],
   "source": [
    "df4.to_csv(\"zomato_data_analysis.csv\", index=False)"
   ]
  }
 ],
 "metadata": {
  "kernelspec": {
   "display_name": "Python [conda env:base] *",
   "language": "python",
   "name": "conda-base-py"
  },
  "language_info": {
   "codemirror_mode": {
    "name": "ipython",
    "version": 3
   },
   "file_extension": ".py",
   "mimetype": "text/x-python",
   "name": "python",
   "nbconvert_exporter": "python",
   "pygments_lexer": "ipython3",
   "version": "3.12.7"
  }
 },
 "nbformat": 4,
 "nbformat_minor": 5
}
